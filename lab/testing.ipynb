{
    "cells": [
        {
            "cell_type": "code",
            "execution_count": 1,
            "metadata": {},
            "outputs": [
                {
                    "name": "stderr",
                    "output_type": "stream",
                    "text": [
                        "GARUDA INFO     : Number of CPUs set to 8\n"
                    ]
                }
            ],
            "source": [
                "import rioxarray as rxr\n",
                "from tqdm.auto import tqdm\n",
                "import os\n",
                "from glob import glob\n",
                "from haversine import haversine, Unit, haversine_vector\n",
                "\n",
                "from garuda.data import GeoDataset\n",
                "from garuda.utils import obb_labels_from_geojson\n",
                "from garuda.config import set_n_cpus\n",
                "set_n_cpus(8)"
            ]
        },
        {
            "cell_type": "code",
            "execution_count": 2,
            "metadata": {},
            "outputs": [
                {
                    "data": {
                        "text/html": [
                            "\n",
                            "            <style>\n",
                            "                .geemap-dark {\n",
                            "                    --jp-widgets-color: white;\n",
                            "                    --jp-widgets-label-color: white;\n",
                            "                    --jp-ui-font-color1: white;\n",
                            "                    --jp-layout-color2: #454545;\n",
                            "                    background-color: #383838;\n",
                            "                }\n",
                            "\n",
                            "                .geemap-dark .jupyter-button {\n",
                            "                    --jp-layout-color3: #383838;\n",
                            "                }\n",
                            "\n",
                            "                .geemap-colab {\n",
                            "                    background-color: var(--colab-primary-surface-color, white);\n",
                            "                }\n",
                            "\n",
                            "                .geemap-colab .jupyter-button {\n",
                            "                    --jp-layout-color3: var(--colab-primary-surface-color, white);\n",
                            "                }\n",
                            "            </style>\n",
                            "            "
                        ],
                        "text/plain": [
                            "<IPython.core.display.HTML object>"
                        ]
                    },
                    "metadata": {},
                    "output_type": "display_data"
                },
                {
                    "data": {
                        "text/plain": [
                            "(342, 783)"
                        ]
                    },
                    "execution_count": 2,
                    "metadata": {},
                    "output_type": "execute_result"
                }
            ],
            "source": [
                "image_paths = glob(\"/home/patel_zeel/BrickKilns_v2/data/sentinel/full/delhi_sarath_grid/images/*.tif\")\n",
                "labels = obb_labels_from_geojson(\"/home/patel_zeel/BrickKilns_v2/geojson_labels/v4/delhi_sarath_grid.geojson\")\n",
                "len(image_paths), len(labels)"
            ]
        },
        {
            "cell_type": "code",
            "execution_count": 3,
            "metadata": {},
            "outputs": [
                {
                    "data": {
                        "text/html": [
                            "\n",
                            "            <style>\n",
                            "                .geemap-dark {\n",
                            "                    --jp-widgets-color: white;\n",
                            "                    --jp-widgets-label-color: white;\n",
                            "                    --jp-ui-font-color1: white;\n",
                            "                    --jp-layout-color2: #454545;\n",
                            "                    background-color: #383838;\n",
                            "                }\n",
                            "\n",
                            "                .geemap-dark .jupyter-button {\n",
                            "                    --jp-layout-color3: #383838;\n",
                            "                }\n",
                            "\n",
                            "                .geemap-colab {\n",
                            "                    background-color: var(--colab-primary-surface-color, white);\n",
                            "                }\n",
                            "\n",
                            "                .geemap-colab .jupyter-button {\n",
                            "                    --jp-layout-color3: var(--colab-primary-surface-color, white);\n",
                            "                }\n",
                            "            </style>\n",
                            "            "
                        ],
                        "text/plain": [
                            "<IPython.core.display.HTML object>"
                        ]
                    },
                    "metadata": {},
                    "output_type": "display_data"
                },
                {
                    "data": {
                        "text/plain": [
                            "BBLabel(box=[[77.440547 28.203442]\n",
                            " [77.440547 28.203933]\n",
                            " [77.439517 28.203933]\n",
                            " [77.439517 28.203442]], \n",
                            "class_name=Zigzag, \n",
                            "length_of_object=101.12 m,\n",
                            "width_of_object=54.41 m,"
                        ]
                    },
                    "execution_count": 3,
                    "metadata": {},
                    "output_type": "execute_result"
                }
            ],
            "source": [
                "labels[0]"
            ]
        },
        {
            "cell_type": "code",
            "execution_count": 4,
            "metadata": {},
            "outputs": [
                {
                    "data": {
                        "text/html": [
                            "\n",
                            "            <style>\n",
                            "                .geemap-dark {\n",
                            "                    --jp-widgets-color: white;\n",
                            "                    --jp-widgets-label-color: white;\n",
                            "                    --jp-ui-font-color1: white;\n",
                            "                    --jp-layout-color2: #454545;\n",
                            "                    background-color: #383838;\n",
                            "                }\n",
                            "\n",
                            "                .geemap-dark .jupyter-button {\n",
                            "                    --jp-layout-color3: #383838;\n",
                            "                }\n",
                            "\n",
                            "                .geemap-colab {\n",
                            "                    background-color: var(--colab-primary-surface-color, white);\n",
                            "                }\n",
                            "\n",
                            "                .geemap-colab .jupyter-button {\n",
                            "                    --jp-layout-color3: var(--colab-primary-surface-color, white);\n",
                            "                }\n",
                            "            </style>\n",
                            "            "
                        ],
                        "text/plain": [
                            "<IPython.core.display.HTML object>"
                        ]
                    },
                    "metadata": {},
                    "output_type": "display_data"
                },
                {
                    "name": "stderr",
                    "output_type": "stream",
                    "text": [
                        "GARUDA INFO     : Images are in UTM projection.\n",
                        "GARUDA INFO     : Running deduplication on labels...\n",
                        "GARUDA INFO     : Number of bounding boxes: 783\n"
                    ]
                },
                {
                    "data": {
                        "application/vnd.jupyter.widget-view+json": {
                            "model_id": "d4d0b2a6d5e64f38a30549ef1eb4a8b4",
                            "version_major": 2,
                            "version_minor": 0
                        },
                        "text/plain": [
                            "  0%|          | 0/783 [00:00<?, ?it/s]"
                        ]
                    },
                    "metadata": {},
                    "output_type": "display_data"
                },
                {
                    "data": {
                        "application/vnd.jupyter.widget-view+json": {
                            "model_id": "c7a0532893c046aa8f8e25c4fdd94143",
                            "version_major": 2,
                            "version_minor": 0
                        },
                        "text/plain": [
                            "  0%|          | 0/783 [00:00<?, ?it/s]"
                        ]
                    },
                    "metadata": {},
                    "output_type": "display_data"
                },
                {
                    "data": {
                        "application/vnd.jupyter.widget-view+json": {
                            "model_id": "d8e051f9f3e04044b25441cb08586ae3",
                            "version_major": 2,
                            "version_minor": 0
                        },
                        "text/plain": [
                            "  0%|          | 0/783 [00:00<?, ?it/s]"
                        ]
                    },
                    "metadata": {},
                    "output_type": "display_data"
                },
                {
                    "data": {
                        "application/vnd.jupyter.widget-view+json": {
                            "model_id": "7cd8331c86ca4c8cba8d1a5dd82123a0",
                            "version_major": 2,
                            "version_minor": 0
                        },
                        "text/plain": [
                            "  0%|          | 0/783 [00:00<?, ?it/s]"
                        ]
                    },
                    "metadata": {},
                    "output_type": "display_data"
                },
                {
                    "name": "stderr",
                    "output_type": "stream",
                    "text": [
                        "GARUDA INFO     : Number of possible intersection pairs: 16\n",
                        "GARUDA INFO     : Computing IOA and IOU ...\n"
                    ]
                },
                {
                    "data": {
                        "application/vnd.jupyter.widget-view+json": {
                            "model_id": "291a6c9a4599405593576b56507caab2",
                            "version_major": 2,
                            "version_minor": 0
                        },
                        "text/plain": [
                            "  0%|          | 0/16 [00:00<?, ?it/s]"
                        ]
                    },
                    "metadata": {},
                    "output_type": "display_data"
                },
                {
                    "name": "stderr",
                    "output_type": "stream",
                    "text": [
                        "GARUDA INFO     : ##################################################\n",
                        "GARUDA INFO     : Removing overlapping bounding boxes based on IOA\n",
                        "GARUDA INFO     : ##################################################\n",
                        "GARUDA INFO     : Master iteration: 0\n",
                        "GARUDA INFO     : Initial number of bounding boxes: 783\n",
                        "GARUDA INFO     : Number of bounding boxes after removing overlapping boxes: 783\n",
                        "GARUDA INFO     : No more bounding boxes to remove\n",
                        "GARUDA INFO     : ##################################################\n",
                        "GARUDA INFO     : Removing overlapping bounding boxes based on IOU\n",
                        "GARUDA INFO     : ##################################################\n",
                        "GARUDA INFO     : Master iteration: 0\n",
                        "GARUDA INFO     : Initial number of bounding boxes: 783\n",
                        "GARUDA INFO     : Number of bounding boxes after removing overlapping bounding boxes: 783\n",
                        "GARUDA INFO     : No more bounding boxes to remove\n",
                        "GARUDA INFO     : Max IOA: 0.008677420483953653\n",
                        "GARUDA INFO     : Max IOU: 0.004267314890312104\n",
                        "GARUDA INFO     : Final number of duplicate bounding boxes to remove: 0\n",
                        "GARUDA INFO     : Getting the range of each image file\n"
                    ]
                },
                {
                    "data": {
                        "application/vnd.jupyter.widget-view+json": {
                            "model_id": "1e02810baa684c7186ffd0a505b1f334",
                            "version_major": 2,
                            "version_minor": 0
                        },
                        "text/plain": [
                            "  0%|          | 0/342 [00:00<?, ?it/s]"
                        ]
                    },
                    "metadata": {},
                    "output_type": "display_data"
                },
                {
                    "name": "stderr",
                    "output_type": "stream",
                    "text": [
                        "GARUDA INFO     : Number of images: 342\n",
                        "GARUDA INFO     : Number of images with no labels: 236\n",
                        "GARUDA INFO     : Number of labels: 783\n",
                        "GARUDA INFO     : Number of classes: 3\n",
                        "GARUDA INFO     : Classes: ['CFCBK', 'FCBK', 'Zigzag']\n",
                        "GARUDA INFO     : \n",
                        "0      9\n",
                        "1    706\n",
                        "2     68\n",
                        "Name: index: number of times same label repeats in multiple images, values: number of such labels, dtype: int64\n",
                        "GARUDA INFO     : \n",
                        "0.0     236\n",
                        "1.0      24\n",
                        "2.0      19\n",
                        "3.0      10\n",
                        "4.0       3\n",
                        "5.0       2\n",
                        "6.0       8\n",
                        "7.0       3\n",
                        "8.0       1\n",
                        "9.0       4\n",
                        "10.0      3\n",
                        "12.0      1\n",
                        "13.0      5\n",
                        "14.0      5\n",
                        "15.0      4\n",
                        "16.0      1\n",
                        "17.0      2\n",
                        "18.0      1\n",
                        "20.0      1\n",
                        "21.0      1\n",
                        "22.0      1\n",
                        "23.0      1\n",
                        "24.0      1\n",
                        "29.0      1\n",
                        "31.0      1\n",
                        "32.0      1\n",
                        "48.0      1\n",
                        "60.0      1\n",
                        "Name: index: number of labels in a single image, values: number of such images, dtype: int64\n"
                    ]
                }
            ],
            "source": [
                "classes = [\"CFCBK\", \"FCBK\", \"Zigzag\"]\n",
                "data = GeoDataset.from_images_and_labels(image_paths, labels, classes, 10, True, 0.2, 0.2)"
            ]
        },
        {
            "cell_type": "code",
            "execution_count": 5,
            "metadata": {},
            "outputs": [
                {
                    "data": {
                        "text/html": [
                            "\n",
                            "            <style>\n",
                            "                .geemap-dark {\n",
                            "                    --jp-widgets-color: white;\n",
                            "                    --jp-widgets-label-color: white;\n",
                            "                    --jp-ui-font-color1: white;\n",
                            "                    --jp-layout-color2: #454545;\n",
                            "                    background-color: #383838;\n",
                            "                }\n",
                            "\n",
                            "                .geemap-dark .jupyter-button {\n",
                            "                    --jp-layout-color3: #383838;\n",
                            "                }\n",
                            "\n",
                            "                .geemap-colab {\n",
                            "                    background-color: var(--colab-primary-surface-color, white);\n",
                            "                }\n",
                            "\n",
                            "                .geemap-colab .jupyter-button {\n",
                            "                    --jp-layout-color3: var(--colab-primary-surface-color, white);\n",
                            "                }\n",
                            "            </style>\n",
                            "            "
                        ],
                        "text/plain": [
                            "<IPython.core.display.HTML object>"
                        ]
                    },
                    "metadata": {},
                    "output_type": "display_data"
                },
                {
                    "data": {
                        "application/vnd.jupyter.widget-view+json": {
                            "model_id": "cb01a30381f242e0adc90975cecd0f81",
                            "version_major": 2,
                            "version_minor": 0
                        },
                        "text/plain": [
                            "  0%|          | 0/342 [00:00<?, ?it/s]"
                        ]
                    },
                    "metadata": {},
                    "output_type": "display_data"
                },
                {
                    "data": {
                        "image/png": "[encoded data removed]",
                        "text/plain": [
                            "<Figure size 640x480 with 1 Axes>"
                        ]
                    },
                    "metadata": {},
                    "output_type": "display_data"
                }
            ],
            "source": [
                "import matplotlib.pyplot as plt\n",
                "for key, value in tqdm(data.image_to_labels.items()):\n",
                "    x_min = value['x_min']\n",
                "    x_max = value['x_max']\n",
                "    y_min = value['y_min']\n",
                "    y_max = value['y_max']\n",
                "    if len(value['label']) > 0:\n",
                "        plt.fill([x_min, x_max, x_max, x_min, x_min], [y_min, y_min, y_max, y_max, y_min], alpha=0.1, color='green')\n",
                "    else:\n",
                "        plt.fill([x_min, x_max, x_max, x_min, x_min], [y_min, y_min, y_max, y_max, y_min], alpha=0.1, color='red')"
            ]
        },
        {
            "cell_type": "code",
            "execution_count": 4,
            "metadata": {},
            "outputs": [
                {
                    "name": "stdout",
                    "output_type": "stream",
                    "text": [
                        "Appended: 0\n",
                        "Appended: 1\n",
                        "Appended: 2\n",
                        "Appended: 3\n",
                        "Appended: 4\n",
                        "Appended: 5\n",
                        "Appended: 6\n",
                        "Appended: 7\n",
                        "Appended: 8\n",
                        "Appended: 9\n"
                    ]
                }
            ],
            "source": [
                "import asyncio\n",
                "\n",
                "results = []\n",
                "\n",
                "async def append_to_list():\n",
                "    for i in range(10):\n",
                "        await asyncio.sleep(1)\n",
                "        results.append(i)\n",
                "        print(f\"Appended: {i}\")\n",
                "\n",
                "# Start the task but do not wait for it to complete\n",
                "task = asyncio.create_task(append_to_list())"
            ]
        },
        {
            "cell_type": "code",
            "execution_count": 6,
            "metadata": {},
            "outputs": [
                {
                    "data": {
                        "text/plain": [
                            "10"
                        ]
                    },
                    "execution_count": 6,
                    "metadata": {},
                    "output_type": "execute_result"
                }
            ],
            "source": [
                "len(results)"
            ]
        },
        {
            "cell_type": "code",
            "execution_count": null,
            "metadata": {},
            "outputs": [],
            "source": []
        }
    ],
    "metadata": {
        "kernelspec": {
            "display_name": "zeel_py310",
            "language": "python",
            "name": "python3"
        },
        "language_info": {
            "codemirror_mode": {
                "name": "ipython",
                "version": 3
            },
            "file_extension": ".py",
            "mimetype": "text/x-python",
            "name": "python",
            "nbconvert_exporter": "python",
            "pygments_lexer": "ipython3",
            "version": "3.10.12"
        }
    },
    "nbformat": 4,
    "nbformat_minor": 2
}
