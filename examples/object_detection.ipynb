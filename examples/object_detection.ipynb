{
 "cells": [
  {
   "cell_type": "code",
   "execution_count": 1,
   "metadata": {},
   "outputs": [],
   "source": [
    "import numpy as np\n",
    "import matplotlib.pyplot as plt\n",
    "\n",
    "from garuda.ops import geo_to_webm, webm_to_geo\n",
    "from garuda.od import yolo_aa_to_geo, yolo_obb_to_geo\n",
    "from garuda.plot import plot_webm_to_geo"
   ]
  },
  {
   "cell_type": "markdown",
   "metadata": {},
   "source": [
    "Specify the config"
   ]
  },
  {
   "cell_type": "code",
   "execution_count": 2,
   "metadata": {},
   "outputs": [],
   "source": [
    "img_center_lon = 87.93\n",
    "img_center_lat = 22.32\n",
    "zoom = 17\n",
    "image_path = f\"../data/{img_center_lat},{img_center_lon}.png\"\n",
    "aa_label_path = f\"../data/{img_center_lat},{img_center_lon}_aa.txt\"\n",
    "obb_label_path = f\"../data/{img_center_lat},{img_center_lon}_obb.txt\""
   ]
  },
  {
   "cell_type": "markdown",
   "metadata": {},
   "source": [
    "### Get the geo-locations of the objects from yolo predictions"
   ]
  },
  {
   "cell_type": "code",
   "execution_count": 3,
   "metadata": {},
   "outputs": [
    {
     "name": "stdout",
     "output_type": "stream",
     "text": [
      "[[ 1.         22.32520659 87.93496674]\n",
      " [ 1.         22.32360895 87.93237122]\n",
      " [ 1.         22.322238   87.93288391]\n",
      " [ 1.         22.32071142 87.92991989]\n",
      " [ 1.         22.32133391 87.93233917]\n",
      " [ 1.         22.31762116 87.93244331]\n",
      " [ 1.         22.31710981 87.93048866]\n",
      " [ 1.         22.3167615  87.93194664]\n",
      " [ 1.         22.31516075 87.92982376]]\n"
     ]
    }
   ],
   "source": [
    "img = plt.imread(image_path)\n",
    "aa_yolo_lables = np.loadtxt(aa_label_path, ndmin=2)\n",
    "bbox_geo = yolo_aa_to_geo(aa_yolo_lables, zoom, img_center_lat, img_center_lon, img.shape[0], img_height=img.shape[1])\n",
    "print(bbox_geo)"
   ]
  },
  {
   "cell_type": "markdown",
   "metadata": {},
   "source": [
    "We can also provide path to the label instead of label itself."
   ]
  },
  {
   "cell_type": "code",
   "execution_count": 4,
   "metadata": {},
   "outputs": [
    {
     "name": "stdout",
     "output_type": "stream",
     "text": [
      "[[ 1.         22.32520659 87.93496674]\n",
      " [ 1.         22.32360895 87.93237122]\n",
      " [ 1.         22.322238   87.93288391]\n",
      " [ 1.         22.32071142 87.92991989]\n",
      " [ 1.         22.32133391 87.93233917]\n",
      " [ 1.         22.31762116 87.93244331]\n",
      " [ 1.         22.31710981 87.93048866]\n",
      " [ 1.         22.3167615  87.93194664]\n",
      " [ 1.         22.31516075 87.92982376]]\n"
     ]
    }
   ],
   "source": [
    "bbox_geo = yolo_aa_to_geo(aa_label_path, zoom, img_center_lat, img_center_lon, img.shape[0], img_height=img.shape[1])\n",
    "print(bbox_geo)"
   ]
  },
  {
   "cell_type": "code",
   "execution_count": 5,
   "metadata": {},
   "outputs": [
    {
     "name": "stdout",
     "output_type": "stream",
     "text": [
      "[[ 1.         22.32520659 87.93496674]\n",
      " [ 1.         22.32360895 87.93237122]\n",
      " [ 1.         22.322238   87.93288391]\n",
      " [ 1.         22.32071142 87.92991989]\n",
      " [ 1.         22.32133391 87.93233917]\n",
      " [ 1.         22.31762116 87.93244331]\n",
      " [ 1.         22.31710981 87.93048866]\n",
      " [ 1.         22.3167615  87.93194664]\n",
      " [ 1.         22.31516075 87.92982376]]\n"
     ]
    }
   ],
   "source": [
    "obb_yolo_lables = np.loadtxt(obb_label_path, ndmin=2)\n",
    "bbox_geo = yolo_obb_to_geo(obb_yolo_lables, zoom, img_center_lat, img_center_lon, img.shape[0], img.shape[1])\n",
    "print(bbox_geo)"
   ]
  },
  {
   "cell_type": "code",
   "execution_count": 7,
   "metadata": {},
   "outputs": [
    {
     "name": "stdout",
     "output_type": "stream",
     "text": [
      "[[ 1.         22.32520659 87.93496674]\n",
      " [ 1.         22.32360895 87.93237122]\n",
      " [ 1.         22.322238   87.93288391]\n",
      " [ 1.         22.32071142 87.92991989]\n",
      " [ 1.         22.32133391 87.93233917]\n",
      " [ 1.         22.31762116 87.93244331]\n",
      " [ 1.         22.31710981 87.93048866]\n",
      " [ 1.         22.3167615  87.93194664]\n",
      " [ 1.         22.31516075 87.92982376]]\n"
     ]
    }
   ],
   "source": [
    "bbox_geo = yolo_obb_to_geo(obb_label_path, zoom, img_center_lat, img_center_lon, img.shape[0], img_height=img.shape[1])\n",
    "print(bbox_geo)"
   ]
  },
  {
   "cell_type": "markdown",
   "metadata": {},
   "source": [
    "### Plot the geo-locations on the map"
   ]
  },
  {
   "cell_type": "code",
   "execution_count": null,
   "metadata": {},
   "outputs": [],
   "source": [
    "fig, ax = plt.subplots()\n",
    "plot_webm_to_geo(img, img_center_lat, img_center_lon, zoom, ax)\n",
    "\n",
    "lons = bbox_geo[:, 2]\n",
    "lats = bbox_geo[:, 1]\n",
    "\n",
    "plt.scatter(lons, lats, c='r', s=10)"
   ]
  }
 ],
 "metadata": {
  "kernelspec": {
   "display_name": "zeel_py310",
   "language": "python",
   "name": "python3"
  },
  "language_info": {
   "codemirror_mode": {
    "name": "ipython",
    "version": 3
   },
   "file_extension": ".py",
   "mimetype": "text/x-python",
   "name": "python",
   "nbconvert_exporter": "python",
   "pygments_lexer": "ipython3",
   "version": "3.10.12"
  }
 },
 "nbformat": 4,
 "nbformat_minor": 2
}
